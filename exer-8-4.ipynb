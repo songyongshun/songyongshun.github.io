{
 "cells": [
  {
   "cell_type": "markdown",
   "id": "dfebab9d",
   "metadata": {},
   "source": [
    "Tkinter 进阶练习 - Jupyter Notebook 格式"
   ]
  },
  {
   "cell_type": "markdown",
   "id": "705021e7",
   "metadata": {},
   "source": [
    "练习1. turtle回顾"
   ]
  },
  {
   "cell_type": "code",
   "execution_count": null,
   "id": "9ba03a38",
   "metadata": {},
   "outputs": [],
   "source": [
    "import turtle\n",
    "turtle.TurtleScreen._RUNNING = True\n",
    "\n",
    "s1 = turtle.Screen()\n",
    "\n",
    "s1.setup(400,400)\n",
    "s1.bgcolor('grey')  \n",
    "\n",
    "\n",
    "t1 =  # 补充\n",
    "t1.forward(100)\n",
    "\n",
    "turtle.done()"
   ]
  },
  {
   "cell_type": "markdown",
   "id": "79f18f82",
   "metadata": {},
   "source": [
    "练习2：画五角星"
   ]
  },
  {
   "cell_type": "code",
   "execution_count": null,
   "id": "1cb9dc7d",
   "metadata": {
    "lines_to_next_cell": 1
   },
   "outputs": [],
   "source": [
    "import turtle\n",
    "turtle.TurtleScreen._RUNNING = True\n",
    "\n",
    "s2 = turtle.Screen()\n",
    "s2.setup(400, 400)\n",
    "s2.bgcolor('lightblue')\n",
    "\n",
    "star = turtle.Turtle()\n",
    "star.color('yellow')\n",
    "star.begin_fill()\n",
    "\n",
    "# 补充此段内容\n",
    "\n",
    "star.end_fill()\n",
    "turtle.done()"
   ]
  },
  {
   "cell_type": "markdown",
   "id": "53e6cb39",
   "metadata": {},
   "source": [
    "练习3：画五星红旗"
   ]
  },
  {
   "cell_type": "code",
   "execution_count": null,
   "id": "623a587f",
   "metadata": {
    "lines_to_next_cell": 1
   },
   "outputs": [],
   "source": [
    "import turtle\n",
    "import math\n",
    "turtle.TurtleScreen._RUNNING = True\n",
    "\n",
    "\n",
    "\n",
    "def draw_rectangle(t1, start_x,start_y,rec_x,rec_y):\n",
    "     t1.goto(start_x,start_y)  # 会自动重设笔的状态为pendown.\n",
    "     t1.color('red')\n",
    "     t1.fillcolor('red')\n",
    "     t1.begin_fill()\n",
    "     # 实现画长方形\n",
    "     for _ in range(2):\n",
    "          t1.forward(rec_x)\n",
    "          t1.left(90)\n",
    "          t1.forward(rec_y)\n",
    "          t1.left(90)\n",
    "\n",
    "     t1.end_fill()\n",
    "\n",
    "def draw_star(t1, center_x, center_y, radius,angle):\n",
    " \n",
    "  edge = radius*math.sqrt(10+2*math.sqrt(5))/2\n",
    "  t1.pencolor(\"yellow\")\n",
    "  t1.penup()\n",
    "  t1.goto(center_x, center_y)\n",
    "  t1.setheading(angle)  # 点朝下\n",
    "  t1.forward(radius)\n",
    "  t1.setheading()  # 补充\n",
    "  t1.pendown()\n",
    "  t1.begin_fill()\n",
    "  for _ in range(5):\n",
    "    t1.forward(edge)\n",
    "    t1.right()  # 补充\n",
    "  t1.end_fill()\n",
    "  \n",
    "def draw_small_star(t1, center_x, center_y, radius,angle):\n",
    "  edge = radius*math.sqrt(10+2*math.sqrt(5))/2\n",
    "  \n",
    "  t1.penup()\n",
    "  t1.pencolor(\"yellow\")\n",
    "  \n",
    "  t1.goto(center_x, center_y)\n",
    "  t1.setheading(angle)  # 朝向小星星\n",
    "  t1.forward(radius)\n",
    "  t1.pendown()\n",
    "  t1.begin_fill()\n",
    "  t1.right()   # 补充\n",
    "  for _ in range(5):\n",
    "    t1.forward(edge)\n",
    "    t1.right()   # 补充\n",
    "  t1.end_fill()\n",
    "     \n",
    "\n",
    "#start the project\n",
    "t1 = turtle.Turtle()\n",
    "\n",
    "t1.penup()   \n",
    "#draw the rectangle\n",
    "star_x=-320\n",
    "star_y=-260\n",
    "len_x=660\n",
    "len_y=440\n",
    "draw_rectangle(t1,star_x,star_y,len_x,len_y)\n",
    "\n",
    "#draw the big star\n",
    "# 小方格是正方形，边长为pice\n",
    "pice = 660/30\n",
    "big_center_x=star_x+5*pice\n",
    "big_center_y=star_y+len_y-5*pice\n",
    "\n",
    "# t1.penup()\n",
    "draw_star(t1, big_center_x,big_center_y,pice*3,90)\n",
    "\n",
    "#draw the first small star\n",
    "small_center_x = star_x+10*pice\n",
    "small_center_y = star_y+len_y-pice*2\n",
    "\n",
    "# 计算小五角星与大五角星中心连线的夹角\n",
    "angle = math.atan2(big_center_y - small_center_y, big_center_x - small_center_x) * 180 / math.pi\n",
    "\n",
    "draw_small_star(t1, small_center_x, small_center_y, pice, angle)\n",
    "\n",
    "# second\n",
    "small_center_x = star_x+pice*12\n",
    "small_center_y = star_y+len_y-pice*4\n",
    "# 计算小五角星与大五角星中心连线的夹角\n",
    "angle = math.atan2(big_center_y - small_center_y, big_center_x - small_center_x) * 180 / math.pi\n",
    "\n",
    "draw_small_star(t1, small_center_x, small_center_y, pice, angle)\n",
    "\n",
    "# third\n",
    "small_center_x = star_x+pice*12\n",
    "small_center_y = star_y+len_y-7*pice\n",
    "# 计算小五角星与大五角星中心连线的夹角\n",
    "angle = math.atan2(big_center_y - small_center_y, big_center_x - small_center_x) * 180 / math.pi\n",
    "\n",
    "draw_small_star(t1, small_center_x, small_center_y, pice, angle)\n",
    "\n",
    "# forth\n",
    "small_center_x = star_x+pice*10\n",
    "small_center_y = star_y+len_y-9*pice\n",
    "# 计算小五角星与大五角星中心连线的夹角\n",
    "angle = math.atan2(big_center_y - small_center_y, big_center_x - small_center_x) * 180 / math.pi\n",
    "\n",
    "draw_small_star(t1, small_center_x, small_center_y, pice, angle)\n",
    "\n",
    "\n",
    "turtle.done()"
   ]
  }
 ],
 "metadata": {
  "jupytext": {
   "cell_metadata_filter": "-all",
   "main_language": "python",
   "notebook_metadata_filter": "-all"
  },
  "kernelspec": {
   "display_name": "jupyter",
   "language": "python",
   "name": "python3"
  },
  "language_info": {
   "codemirror_mode": {
    "name": "ipython",
    "version": 3
   },
   "file_extension": ".py",
   "mimetype": "text/x-python",
   "name": "python",
   "nbconvert_exporter": "python",
   "pygments_lexer": "ipython3",
   "version": "3.13.7"
  }
 },
 "nbformat": 4,
 "nbformat_minor": 5
}
