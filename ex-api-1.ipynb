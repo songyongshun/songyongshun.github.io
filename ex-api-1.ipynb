{
 "cells": [
  {
   "cell_type": "markdown",
   "id": "ed0a447a",
   "metadata": {},
   "source": [
    "#  api操作练习题"
   ]
  },
  {
   "cell_type": "code",
   "execution_count": null,
   "id": "af082ba6",
   "metadata": {
    "lines_to_next_cell": 2
   },
   "outputs": [],
   "source": [
    "import urllib.request\n",
    "import json"
   ]
  },
  {
   "cell_type": "markdown",
   "id": "0edfdea2",
   "metadata": {
    "lines_to_next_cell": 2
   },
   "source": [
    "# 练习1：访问https://www.weather.gov/documentation/services-web-api，找到api使用说明。\n",
    "## 提示: Example下"
   ]
  },
  {
   "cell_type": "markdown",
   "id": "c9e801e9",
   "metadata": {
    "lines_to_next_cell": 0
   },
   "source": [
    "# 练习2：使用urllib 获取{latitude=40},{longitude=-100}位置所返回的内容."
   ]
  },
  {
   "cell_type": "code",
   "execution_count": null,
   "id": "99d776be",
   "metadata": {},
   "outputs": [],
   "source": [
    "url = \"https://api.weather.gov/point/\"  # TODO, 补充经纬度\n",
    "\n",
    "response = urllib.request.urlopen(url)\n",
    "data_raw = response.read().decode()\n",
    "\n",
    "forecast_data = json.loads(data_raw)\n",
    "print(\"Recieved Data:\", forecast_data)"
   ]
  },
  {
   "cell_type": "markdown",
   "id": "55cce783",
   "metadata": {},
   "source": [
    "# 练习3：获取预报数据\n",
    "## 将上个练习获得数据在https://www.json.cn/json2025.html里，在线json格式化，找到forecast字段的url格式."
   ]
  },
  {
   "cell_type": "code",
   "execution_count": null,
   "id": "690257e5",
   "metadata": {},
   "outputs": [],
   "source": [
    "\n",
    "url = \"https://api.weather.gov/gridpoints/\"  # TODO， 补充预报字段\n",
    "\n",
    "response = urllib.request.urlopen(url)\n",
    "data_raw = response.read().decode()\n",
    "\n",
    "forecast_data = json.loads(data_raw)\n",
    "print(\"Recieved Data:\", forecast_data)"
   ]
  },
  {
   "cell_type": "markdown",
   "id": "d984ff41",
   "metadata": {
    "lines_to_next_cell": 0
   },
   "source": [
    "# 练习4：分析json数据\n",
    "## 在线json里查看json数据，分析第一级别的数据格式，并跟下面list的All keys对比，是否一致."
   ]
  },
  {
   "cell_type": "code",
   "execution_count": null,
   "id": "398b03cd",
   "metadata": {},
   "outputs": [],
   "source": [
    "url = \"https://api.weather.gov/gridpoints/\"  # TODO， 补充预报字段\n",
    "\n",
    "response = urllib.request.urlopen(url)\n",
    "data_raw = response.read().decode()\n",
    "\n",
    "forecast_data = json.loads(data_raw)\n",
    "print(\"All keys:\", list(forecast_data.keys()))"
   ]
  },
  {
   "cell_type": "markdown",
   "id": "e8fca2ce",
   "metadata": {
    "lines_to_next_cell": 0
   },
   "source": [
    "# 练习5：使用 json 模块解析json内容\n",
    "## 通过在线json查看器，配合list(forecast_data.keys())方法输出的结果，找到overnight字段，输出昨天夜里的气温."
   ]
  },
  {
   "cell_type": "code",
   "execution_count": null,
   "id": "040d01d0",
   "metadata": {},
   "outputs": [],
   "source": [
    "\n",
    "url = \"https://api.weather.gov/gridpoints/\"  # TODO， 补充预报字段\n",
    "\n",
    "response = urllib.request.urlopen(url)\n",
    "data_raw = response.read().decode()\n",
    "\n",
    "forecast_data = json.loads(data_raw)\n",
    "print(\"Forecast Data:\", forecast_data) # TODO，补充, forecast_data[''][][]"
   ]
  },
  {
   "cell_type": "markdown",
   "id": "95c70e9e",
   "metadata": {
    "lines_to_next_cell": 0
   },
   "source": [
    "# 练习6：使用 urllib.request 和 json提取特定信息\n",
    "## 类似的，输出周三的详细天气信息(detailedForecast)"
   ]
  },
  {
   "cell_type": "code",
   "execution_count": null,
   "id": "02d70b11",
   "metadata": {},
   "outputs": [],
   "source": [
    "url = \"https://api.weather.gov/gridpoints/\"  # TODO， 补充预报字段\n",
    "\n",
    "response = urllib.request.urlopen(url)\n",
    "data_raw = response.read().decode()\n",
    "\n",
    "forecast_data = json.loads(data_raw)\n",
    "print(\"Forecast Data:\", forecast_data) # TODO，补充, forecast_data[''][][]"
   ]
  },
  {
   "cell_type": "markdown",
   "id": "7f47b661",
   "metadata": {
    "lines_to_next_cell": 0
   },
   "source": [
    "# 额外练习\n",
    "## 注册百度开发者平台，获取sk，查询中国地区天气\n",
    "## 参考网址: https://lbsyun.baidu.com/faq/api?title=webapi/weather/base"
   ]
  },
  {
   "cell_type": "code",
   "execution_count": null,
   "id": "1374c6ef",
   "metadata": {},
   "outputs": [],
   "source": [
    "\n",
    "# write your code here\n",
    "\n",
    "import requests \n",
    "\n",
    "# 服务地址\n",
    "host = \"https://api.map.baidu.com\"\n",
    "\n",
    "# 接口地址\n",
    "uri = \"/weather/v1/\"\n",
    "\n",
    "# 此处填写你在控制台-应用管理-创建应用后获取的AK\n",
    "ak =  # TODO，填写你申请的api\n",
    "\n",
    "params = {\n",
    "    \"location\":  \"120,30\",\n",
    "    \"data_type\":    \"all\",\n",
    "    \"ak\":       ak,\n",
    "}\n",
    "\n",
    "response = requests.get(url = host + uri, params = params)\n",
    "if response:\n",
    "    print(response.json())"
   ]
  }
 ],
 "metadata": {
  "jupytext": {
   "cell_metadata_filter": "-all",
   "main_language": "python",
   "notebook_metadata_filter": "-all"
  }
 },
 "nbformat": 4,
 "nbformat_minor": 5
}
