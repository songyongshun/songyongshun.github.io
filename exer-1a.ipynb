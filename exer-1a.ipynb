{
 "cells": [
  {
   "cell_type": "markdown",
   "id": "ea85e473",
   "metadata": {},
   "source": [
    "Tkinter 基础练习"
   ]
  },
  {
   "cell_type": "markdown",
   "id": "61ce1602",
   "metadata": {},
   "source": [
    "练习1：创建基本窗口"
   ]
  },
  {
   "cell_type": "code",
   "execution_count": null,
   "id": "5b7774c4",
   "metadata": {},
   "outputs": [],
   "source": [
    "import tkinter as tk\n",
    "\n",
    "# 创建主窗口\n",
    "root = tk.Tk()\n",
    "root.title(\"Tkinter 练习\")\n",
    "root.geometry(\"\")  # 补充，设置窗口大小宽400像素，高300像素\n",
    "root.mainloop()"
   ]
  },
  {
   "cell_type": "markdown",
   "id": "8e1579aa",
   "metadata": {},
   "source": [
    "练习2：添加Label组件"
   ]
  },
  {
   "cell_type": "code",
   "execution_count": null,
   "id": "86f5e868",
   "metadata": {},
   "outputs": [],
   "source": [
    "root = tk.Tk()\n",
    "root.title(\"Label 练习\")\n",
    "root.geometry(\"300x200\")\n",
    "\n",
    "label = tk.Label(root, text=\"\")  # 补充，label的内容是\"Hi,Tkinter\"\n",
    "label.pack()  # 使用pack布局管理器\n",
    "\n",
    "root.mainloop()"
   ]
  },
  {
   "cell_type": "markdown",
   "id": "b806e7b4",
   "metadata": {},
   "source": [
    "练习3：添加Button组件"
   ]
  },
  {
   "cell_type": "code",
   "execution_count": null,
   "id": "bbe88393",
   "metadata": {},
   "outputs": [],
   "source": [
    "root = tk.Tk()\n",
    "root.title(\"Button 练习\")\n",
    "root.geometry(\"300x200\")\n",
    "\n",
    "def button_click():\n",
    "  print(\"按钮被点击了!\")\n",
    "\n",
    "button = tk.Button(root, text=\"点击我\", command=)  # 补充，点击时，执行button_click函数。\n",
    "button.pack(pady=20)  # 添加垂直间距\n",
    "\n",
    "root.mainloop()"
   ]
  },
  {
   "cell_type": "markdown",
   "id": "ee58dd13",
   "metadata": {},
   "source": [
    "练习4：使用Entry组件"
   ]
  },
  {
   "cell_type": "code",
   "execution_count": null,
   "id": "d45c312e",
   "metadata": {},
   "outputs": [],
   "source": [
    "root = tk.Tk()\n",
    "root.title(\"Entry 练习\")\n",
    "root.geometry(\"300x200\")\n",
    "\n",
    "entry = tk.Entry(root, width=)  # 设置文本框的宽度为30个字符\n",
    "entry.pack(pady=10, padx=20)  # 添加水平和垂直间距\n",
    "\n",
    "root.mainloop()"
   ]
  },
  {
   "cell_type": "markdown",
   "id": "337a1a21",
   "metadata": {},
   "source": [
    "练习5：pack的side参数"
   ]
  },
  {
   "cell_type": "code",
   "execution_count": null,
   "id": "037f45b2",
   "metadata": {},
   "outputs": [],
   "source": [
    "root = tk.Tk()\n",
    "root.title(\"pack side 练习\")\n",
    "root.geometry(\"300x200\")\n",
    "\n",
    "label1 = tk.Label(root, text=\"左边\", bg=\"lightblue\")  \n",
    "label1.pack(side=\"\", padx=5)   # 补充， 靠左\n",
    "\n",
    "label2 = tk.Label(root, text=\"右边\", bg=\"lightgreen\")\n",
    "label2.pack(side=\"\", padx=5)  # 补充， 靠右\n",
    "\n",
    "label3 = tk.Label(root, text=\"顶部\", bg=\"lightyellow\")\n",
    "label3.pack(side=\"\", pady=5) # 补充，靠上\n",
    "\n",
    "root.mainloop()"
   ]
  },
  {
   "cell_type": "markdown",
   "id": "be0fe294",
   "metadata": {},
   "source": [
    "练习6：pack的anchor参数"
   ]
  },
  {
   "cell_type": "code",
   "execution_count": null,
   "id": "432d0087",
   "metadata": {},
   "outputs": [],
   "source": [
    "root = tk.Tk()\n",
    "root.title(\"pack anchor 练习\")\n",
    "root.geometry(\"300x200\")\n",
    "\n",
    "label_nw = tk.Label(root, text=\"西北\", bg=\"red\")\n",
    "label_nw.pack(anchor=\"\", padx=10, pady=10)  # 补充， 放置在左侧\n",
    "\n",
    "label_center = tk.Label(root, text=\"中心\", bg=\"green\")\n",
    "label_center.pack(anchor=\"center\")  \n",
    "\n",
    "label_se = tk.Label(root, text=\"东南\", bg=\"blue\")\n",
    "label_se.pack(anchor=\"\", padx=10, pady=10)  # 补充，放置在右侧\n",
    "\n",
    "root.mainloop()"
   ]
  },
  {
   "cell_type": "markdown",
   "id": "3fe31e37",
   "metadata": {},
   "source": [
    "练习7：综合使用padx和pady"
   ]
  },
  {
   "cell_type": "code",
   "execution_count": null,
   "id": "5f1e14c5",
   "metadata": {},
   "outputs": [],
   "source": [
    "root = tk.Tk()\n",
    "root.title(\"间距练习\")\n",
    "root.geometry(\"300x250\")\n",
    "\n",
    "label1 = tk.Label(root, text=\"标签1\", bg=\"red\")\n",
    "label1.pack(pady=(), padx=30)  # 补充，上边距20,下边距 5\n",
    "\n",
    "label2 = tk.Label(root, text=\"标签2\", bg=\"lightblue\")\n",
    "label2.pack(pady=5, padx=30)  \n",
    "\n",
    "button = tk.Button(root, text=\"按钮\", bg=\"lightgreen\")\n",
    "button.pack(pady=(5, 20), padx=10)  # 上边距5，下边距20\n",
    "\n",
    "root.mainloop()"
   ]
  },
  {
   "cell_type": "markdown",
   "id": "dc18f3a4",
   "metadata": {},
   "source": [
    "练习8：创建交互式界面"
   ]
  },
  {
   "cell_type": "code",
   "execution_count": null,
   "id": "7a974801",
   "metadata": {},
   "outputs": [],
   "source": [
    "root = tk.Tk()\n",
    "root.title(\"交互练习\")\n",
    "root.geometry(\"350x200\")\n",
    "\n",
    "def show_text():\n",
    "  input_text = entry.get()\n",
    "  result_label.config(text=\"你输入了:{}\".format()) # 补充，显示输入的字符\n",
    "\n",
    "entry = tk.Entry(root, width=25)\n",
    "entry.pack(pady=10)\n",
    "\n",
    "button = tk.Button(root, text=\"显示文本\", command=show_text) \n",
    "button.pack(pady=5)\n",
    "\n",
    "result_label = tk.Label(root, text=\"等待输入...\")\n",
    "result_label.pack(pady=10)\n",
    "\n",
    "root.mainloop()"
   ]
  }
 ],
 "metadata": {
  "jupytext": {
   "cell_metadata_filter": "-all",
   "main_language": "python",
   "notebook_metadata_filter": "-all"
  },
  "kernelspec": {
   "display_name": "Python 3 (ipykernel)",
   "language": "python",
   "name": "python3"
  },
  "language_info": {
   "codemirror_mode": {
    "name": "ipython",
    "version": 3
   },
   "file_extension": ".py",
   "mimetype": "text/x-python",
   "name": "python",
   "nbconvert_exporter": "python",
   "pygments_lexer": "ipython3",
   "version": "3.13.5"
  }
 },
 "nbformat": 4,
 "nbformat_minor": 5
}
