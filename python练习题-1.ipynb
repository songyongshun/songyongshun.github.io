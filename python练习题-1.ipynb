{
 "cells": [
  {
   "cell_type": "markdown",
   "id": "cf542f91-057a-40ac-8e37-d2b16e9b1539",
   "metadata": {},
   "source": [
    "# 1. 定义Person类，包含类属性species"
   ]
  },
  {
   "cell_type": "code",
   "execution_count": 49,
   "id": "8e2bad6d-2ba0-4efb-9d24-7e7aca7f21e3",
   "metadata": {},
   "outputs": [
    {
     "ename": "SyntaxError",
     "evalue": "invalid syntax (1225189685.py, line 2)",
     "output_type": "error",
     "traceback": [
      "  \u001b[36mCell\u001b[39m\u001b[36m \u001b[39m\u001b[32mIn[49]\u001b[39m\u001b[32m, line 2\u001b[39m\n\u001b[31m    \u001b[39m\u001b[31mspecies =   # 类属性(补充完整)\u001b[39m\n                ^\n\u001b[31mSyntaxError\u001b[39m\u001b[31m:\u001b[39m invalid syntax\n"
     ]
    }
   ],
   "source": [
    "class Person:\n",
    "  species =   # 补充"
   ]
  },
  {
   "cell_type": "markdown",
   "id": "dcdff2b7-c67b-44ad-8a5f-b20e3c174fe1",
   "metadata": {},
   "source": [
    "测试1：直接访问类属性"
   ]
  },
  {
   "cell_type": "code",
   "execution_count": 50,
   "id": "11e0a622-784c-40cd-90ff-03521926b73e",
   "metadata": {},
   "outputs": [
    {
     "name": "stdout",
     "output_type": "stream",
     "text": [
      "Person.species: Black\n",
      "--------------------------------------------------\n"
     ]
    }
   ],
   "source": [
    "print(\"Person.species:\", Person.species)\n",
    "\n",
    "print(\"-\" * 50)"
   ]
  },
  {
   "cell_type": "markdown",
   "id": "1e6876c3-d734-454a-8e55-81f853402e03",
   "metadata": {},
   "source": [
    "# 2. 添加类方法show_species"
   ]
  },
  {
   "cell_type": "code",
   "execution_count": 52,
   "id": "a77df502-f189-4894-84db-305fbd81d0c1",
   "metadata": {},
   "outputs": [
    {
     "ename": "SyntaxError",
     "evalue": "invalid syntax (1479312981.py, line 2)",
     "output_type": "error",
     "traceback": [
      "  \u001b[36mCell\u001b[39m\u001b[36m \u001b[39m\u001b[32mIn[52]\u001b[39m\u001b[32m, line 2\u001b[39m\n\u001b[31m    \u001b[39m\u001b[31mspecies =  # (补充)\u001b[39m\n               ^\n\u001b[31mSyntaxError\u001b[39m\u001b[31m:\u001b[39m invalid syntax\n"
     ]
    }
   ],
   "source": [
    "class Person:\n",
    "  species =  # 补充\n",
    "  \n",
    "  @classmethod\n",
    "  def show_species(cls):\n",
    "    print(f\"Species: {cls.species}\")"
   ]
  },
  {
   "cell_type": "markdown",
   "id": "db731a38-56fd-4a9a-820e-a941b8bceb53",
   "metadata": {},
   "source": [
    "测试2：调用类方法"
   ]
  },
  {
   "cell_type": "code",
   "execution_count": 47,
   "id": "fb380247-8f03-4f45-a8a4-8ec9bea34faa",
   "metadata": {},
   "outputs": [
    {
     "name": "stdout",
     "output_type": "stream",
     "text": [
      "Species: Black\n"
     ]
    }
   ],
   "source": [
    "Person.show_species()"
   ]
  },
  {
   "cell_type": "markdown",
   "id": "d0c35526-7ee3-49fc-9a5b-f0809ab43c51",
   "metadata": {},
   "source": [
    "# 3. 将species改为私有属性__species"
   ]
  },
  {
   "cell_type": "code",
   "execution_count": 56,
   "id": "76747217-85fc-4a94-b89d-081f62b71a63",
   "metadata": {},
   "outputs": [
    {
     "ename": "IndentationError",
     "evalue": "unindent does not match any outer indentation level (<string>, line 4)",
     "output_type": "error",
     "traceback": [
      "  \u001b[36mFile \u001b[39m\u001b[32m<string>:4\u001b[39m\n\u001b[31m    \u001b[39m\u001b[31m@classmethod\u001b[39m\n                ^\n\u001b[31mIndentationError\u001b[39m\u001b[31m:\u001b[39m unindent does not match any outer indentation level\n"
     ]
    }
   ],
   "source": [
    "class Person:\n",
    "   = \"Black\"  # 补充\n",
    "  \n",
    "  @classmethod\n",
    "  def show_species(cls):\n",
    "    print(f\"Species: {cls.__species}\")"
   ]
  },
  {
   "cell_type": "markdown",
   "id": "1f6e34c0-2249-478f-8e75-8b8cdba7bf9b",
   "metadata": {},
   "source": [
    "测试3：尝试直接访问私有属性"
   ]
  },
  {
   "cell_type": "code",
   "execution_count": 10,
   "id": "111c4d92-4f84-4763-ae84-4126f9831a6a",
   "metadata": {},
   "outputs": [
    {
     "name": "stdout",
     "output_type": "stream",
     "text": [
      "访问私有属性结果: type object 'Person' has no attribute '__species'\n"
     ]
    }
   ],
   "source": [
    "try:\n",
    "  print(\"尝试访问Person.__species:\", Person.__species)\n",
    "except AttributeError as e:\n",
    "  print(\"访问私有属性结果:\", e)"
   ]
  },
  {
   "cell_type": "markdown",
   "id": "61b86f70-6c88-47dd-b1ee-492d72423bd1",
   "metadata": {},
   "source": [
    "测试3继续：通过类方法访问"
   ]
  },
  {
   "cell_type": "code",
   "execution_count": 12,
   "id": "8e3ef70f-1ccd-4735-9439-4ede74d888ad",
   "metadata": {},
   "outputs": [
    {
     "name": "stdout",
     "output_type": "stream",
     "text": [
      "Species: Human\n",
      "--------------------------------------------------\n"
     ]
    }
   ],
   "source": [
    "Person.show_species()\n",
    "\n",
    "print(\"-\" * 50)"
   ]
  },
  {
   "cell_type": "markdown",
   "id": "59ee35e6-889d-448b-b10f-58d07d7981a6",
   "metadata": {},
   "source": [
    "# 4. 添加__init__初始化实例属性name和age"
   ]
  },
  {
   "cell_type": "code",
   "execution_count": 13,
   "id": "60a381a6-b2cc-4a53-8402-dcb27ba5bc52",
   "metadata": {},
   "outputs": [],
   "source": [
    "class Person:\n",
    "  __species = \"Human\"\n",
    "  \n",
    "  def __init__(self, name, age):\n",
    "     #补充\n",
    "     # 补充\n",
    "  \n",
    "  @classmethod\n",
    "  def show_species(cls):\n",
    "    print(f\"Species: {cls.__species}\")"
   ]
  },
  {
   "cell_type": "markdown",
   "id": "27c2ee20-dff7-470c-96bb-91869996a7c5",
   "metadata": {},
   "source": [
    "测试4：创建实例并访问实例属性"
   ]
  },
  {
   "cell_type": "code",
   "execution_count": 15,
   "id": "2c37b5dd-d426-4038-9857-b4beb7b7d143",
   "metadata": {},
   "outputs": [
    {
     "name": "stdout",
     "output_type": "stream",
     "text": [
      "实例属性 - name: xiaoming, age: 30\n",
      "--------------------------------------------------\n"
     ]
    }
   ],
   "source": [
    "p = Person(\"xiaoming\", 30)\n",
    "print(f\"实例属性 - name: {p.name}, age: {p.age}\")\n",
    "\n",
    "print(\"-\" * 50)"
   ]
  },
  {
   "cell_type": "markdown",
   "id": "704aa0e3-eb0e-4d0d-8cdb-8709c69622f1",
   "metadata": {},
   "source": [
    "# 5. 在__init__中添加私有属性__id"
   ]
  },
  {
   "cell_type": "code",
   "execution_count": 69,
   "id": "e5bbfa8b-fd0d-4ea3-9370-288296ca99d0",
   "metadata": {},
   "outputs": [
    {
     "ename": "SyntaxError",
     "evalue": "expected ':' (318332063.py, line 10)",
     "output_type": "error",
     "traceback": [
      "  \u001b[36mCell\u001b[39m\u001b[36m \u001b[39m\u001b[32mIn[69]\u001b[39m\u001b[32m, line 10\u001b[39m\n\u001b[31m    \u001b[39m\u001b[31mdef show_species() #补充:\u001b[39m\n                       ^\n\u001b[31mSyntaxError\u001b[39m\u001b[31m:\u001b[39m expected ':'\n"
     ]
    }
   ],
   "source": [
    "class Person:\n",
    "  __species = \"Black\"\n",
    "  \n",
    "  def __init__(self, name, age):\n",
    "    self.name = name\n",
    "    self.age = age\n",
    "    self.__id = id(self)  # 使用id()作为示例ID\n",
    "  \n",
    "  @classmethod\n",
    "  def show_species() #补充:\n",
    "    print(f\"Species: {cls.__species}\")"
   ]
  },
  {
   "cell_type": "markdown",
   "id": "eef6e8d0-f16e-4743-af69-fc1686657743",
   "metadata": {},
   "source": [
    "测试5：尝试直接访问私有实例属性以及私有类属性"
   ]
  },
  {
   "cell_type": "code",
   "execution_count": 67,
   "id": "d9773be6-76df-4dc3-b88a-1a72fe518757",
   "metadata": {},
   "outputs": [
    {
     "ename": "AttributeError",
     "evalue": "type object 'Person' has no attribute '__species'",
     "output_type": "error",
     "traceback": [
      "\u001b[31m---------------------------------------------------------------------------\u001b[39m",
      "\u001b[31mAttributeError\u001b[39m                            Traceback (most recent call last)",
      "\u001b[36mCell\u001b[39m\u001b[36m \u001b[39m\u001b[32mIn[67]\u001b[39m\u001b[32m, line 1\u001b[39m\n\u001b[32m----> \u001b[39m\u001b[32m1\u001b[39m \u001b[43mPerson\u001b[49m\u001b[43m.\u001b[49m\u001b[43m__species\u001b[49m\n",
      "\u001b[31mAttributeError\u001b[39m: type object 'Person' has no attribute '__species'"
     ]
    }
   ],
   "source": [
    "Person.__species"
   ]
  },
  {
   "cell_type": "code",
   "execution_count": 68,
   "id": "500ae061-3718-4514-afbb-2a5f1fde5bc8",
   "metadata": {},
   "outputs": [
    {
     "ename": "AttributeError",
     "evalue": "'Person' object has no attribute '__id'",
     "output_type": "error",
     "traceback": [
      "\u001b[31m---------------------------------------------------------------------------\u001b[39m",
      "\u001b[31mAttributeError\u001b[39m                            Traceback (most recent call last)",
      "\u001b[36mCell\u001b[39m\u001b[36m \u001b[39m\u001b[32mIn[68]\u001b[39m\u001b[32m, line 2\u001b[39m\n\u001b[32m      1\u001b[39m p1 = Person(\u001b[33m\"\u001b[39m\u001b[33mZhao\u001b[39m\u001b[33m\"\u001b[39m, \u001b[32m30\u001b[39m)\n\u001b[32m----> \u001b[39m\u001b[32m2\u001b[39m \u001b[43mp1\u001b[49m\u001b[43m.\u001b[49m\u001b[43m__id\u001b[49m\n",
      "\u001b[31mAttributeError\u001b[39m: 'Person' object has no attribute '__id'"
     ]
    }
   ],
   "source": [
    "p1 = Person(\"Zhao\", 30)\n",
    "p1.__id"
   ]
  },
  {
   "cell_type": "markdown",
   "id": "3281f338-3922-4c80-a16a-4e0342dd4488",
   "metadata": {},
   "source": [
    "测试5继续：访问类方法"
   ]
  },
  {
   "cell_type": "code",
   "execution_count": 61,
   "id": "926720a6-7c3b-4707-80e7-916069b215cc",
   "metadata": {},
   "outputs": [
    {
     "name": "stdout",
     "output_type": "stream",
     "text": [
      "Species: Black\n",
      "--------------------------------------------------\n"
     ]
    }
   ],
   "source": [
    "Person.show_species()\n",
    "print(\"-\" * 50)"
   ]
  },
  {
   "cell_type": "markdown",
   "id": "596850e6-563a-4b50-a8d6-eaaea4d06bb7",
   "metadata": {},
   "source": [
    "# 6. 添加show_info方法输出所有属性"
   ]
  },
  {
   "cell_type": "code",
   "execution_count": 18,
   "id": "3a3d018a-af60-4f2a-8c3a-9d11a0759e90",
   "metadata": {},
   "outputs": [],
   "source": [
    "class Person:\n",
    "  __species = \"Human\"\n",
    "  \n",
    "  def __init__(self, name, age):\n",
    "    self.name = name\n",
    "    self.age = age\n",
    "    self.__id = id(self)\n",
    "  \n",
    "  @classmethod\n",
    "  def show_species(cls):\n",
    "    print(f\"Species: {cls.__species}\")\n",
    "  \n",
    "  def show_info(): #补充\n",
    "    print(f\"Name: {self.name}, Age: {self.age}, ID: {self.__id}\")"
   ]
  },
  {
   "cell_type": "markdown",
   "id": "a27d927a-2da6-4582-83af-1a3542effefd",
   "metadata": {},
   "source": [
    "测试6：调用show_info"
   ]
  },
  {
   "cell_type": "code",
   "execution_count": 20,
   "id": "28fd8d1e-858d-4424-a3f3-2cd319dfcac0",
   "metadata": {},
   "outputs": [
    {
     "name": "stdout",
     "output_type": "stream",
     "text": [
      "Name: Li, Age: 20, ID: 3005828503200\n",
      "--------------------------------------------------\n"
     ]
    }
   ],
   "source": [
    "p = Person(\"Li\", 20)\n",
    "p.show_info()\n",
    "\n",
    "print(\"-\" * 50)"
   ]
  },
  {
   "cell_type": "markdown",
   "id": "3895bca1-51cf-4954-80f1-478ce8030787",
   "metadata": {},
   "source": [
    "# 7. 添加私有方法__get_id和公有方法show_id"
   ]
  },
  {
   "cell_type": "code",
   "execution_count": 21,
   "id": "07795995-8a5d-4bd8-b225-23c0ba1cf7e0",
   "metadata": {},
   "outputs": [],
   "source": [
    "class Person:\n",
    "  __species = \"Human\"\n",
    "  \n",
    "  def __init__(self, name, age):\n",
    "    self.name = name\n",
    "    self.age = age\n",
    "    self.__id = id(self)\n",
    "  \n",
    "  @classmethod\n",
    "  def show_species(cls):\n",
    "    print(f\"Species: {cls.__species}\")\n",
    "  \n",
    "  def show_info(self):\n",
    "    print(f\"Name: {self.name}, Age: {self.age}, ID: {self.__id}\")\n",
    "  \n",
    "  def (self):  # 补充, 私有方法\n",
    "    return self.__id\n",
    "  \n",
    "  def show_id(self):   # 公有方法\n",
    "    print(f\"ID (via show_id): {self.__get_id()}\")"
   ]
  },
  {
   "cell_type": "markdown",
   "id": "3269e656-f585-47a5-9763-2991aca21655",
   "metadata": {},
   "source": [
    "测试7：通过公有方法访问私有方法"
   ]
  },
  {
   "cell_type": "code",
   "execution_count": 23,
   "id": "7dff26db-c821-4413-8f40-8214302dfc11",
   "metadata": {},
   "outputs": [
    {
     "name": "stdout",
     "output_type": "stream",
     "text": [
      "ID (via show_id): 3005828503872\n",
      "--------------------------------------------------\n"
     ]
    }
   ],
   "source": [
    "p = Person(\"Zhao\",30)\n",
    "p.show_id()\n",
    "\n",
    "print(\"-\" * 50)"
   ]
  },
  {
   "cell_type": "markdown",
   "id": "794f0313-a7d1-4f6d-9272-1b1751545603",
   "metadata": {},
   "source": [
    "# 8. 创建Student类继承Person，添加student_id"
   ]
  },
  {
   "cell_type": "code",
   "execution_count": 70,
   "id": "44018182-a4bc-4d0d-827f-9474826cc447",
   "metadata": {},
   "outputs": [],
   "source": [
    "class Student(Person):\n",
    "  def __init__(self, name, age, student_id):\n",
    "    Person.__init__() # 补充\n",
    "    self.student_id = student_id"
   ]
  },
  {
   "cell_type": "markdown",
   "id": "0c3eda3b-b34f-4d20-87c1-7b928c04df76",
   "metadata": {},
   "source": [
    "测试8：创建Student实例并访问属性"
   ]
  },
  {
   "cell_type": "code",
   "execution_count": 25,
   "id": "4a5c18ba-de8d-494f-994e-49be4f55b167",
   "metadata": {},
   "outputs": [
    {
     "name": "stdout",
     "output_type": "stream",
     "text": [
      "Student attributes - name: xiaohong, age: 20, student_id: S12345\n",
      "--------------------------------------------------\n"
     ]
    }
   ],
   "source": [
    "s = Student(\"xiaohong\", 20, \"S12345\")\n",
    "print(f\"Student attributes - name: {s.name}, age: {s.age}, student_id: {s.student_id}\")\n",
    "\n",
    "print(\"-\" * 50)"
   ]
  },
  {
   "cell_type": "markdown",
   "id": "a43c8802-6631-4da6-96c8-8144239bcb9e",
   "metadata": {},
   "source": [
    "# 9. 重写show_info方法，输出student_id"
   ]
  },
  {
   "cell_type": "code",
   "execution_count": 72,
   "id": "cfd571d0-68db-46af-8144-0fbc30d0fdd0",
   "metadata": {},
   "outputs": [],
   "source": [
    "class Student(Person):\n",
    "  def __init__(self, name, age, student_id):\n",
    "    Person.__init__(name, age)\n",
    "    self.student_id = student_id  \n",
    "  \n",
    "  def show_info(): # 补充\n",
    "    Person.show_info()  # 调用父类方法\n",
    "    print(f\"Student ID: {self.student_id}\")"
   ]
  },
  {
   "cell_type": "markdown",
   "id": "ce0f74a0-baf6-4871-83f0-7c4b73586179",
   "metadata": {},
   "source": [
    "测试9：调用重写的show_info"
   ]
  },
  {
   "cell_type": "code",
   "execution_count": 29,
   "id": "e366958c-1266-48d1-bf39-0bc492f09b16",
   "metadata": {},
   "outputs": [
    {
     "name": "stdout",
     "output_type": "stream",
     "text": [
      "Name: Sun, Age: 20, ID: 3005828504880\n",
      "Student ID: 2025063430\n",
      "--------------------------------------------------\n"
     ]
    }
   ],
   "source": [
    "s = Student(\"Sun\", 20, 2025063430)\n",
    "s.show_info()\n",
    "\n",
    "print(\"-\" * 50)"
   ]
  },
  {
   "cell_type": "markdown",
   "id": "6ea2db05-31f7-44c3-bb66-f1a8ef6d50e1",
   "metadata": {},
   "source": [
    "# 10. 添加类属性school和类方法show_school"
   ]
  },
  {
   "cell_type": "code",
   "execution_count": 80,
   "id": "27bd10ce-fc7d-43d4-aa9d-911ad77259b3",
   "metadata": {},
   "outputs": [],
   "source": [
    "class Student(Person):\n",
    "  school = \"CIIT\"  # 类属性\n",
    "  \n",
    "  def __init__(self, name, age, student_id):\n",
    "    Person.__init__(name, age)\n",
    "    self.student_id = student_id\n",
    "  \n",
    "  def show_info(self):\n",
    "    Person.show_info()\n",
    "    print(\"Student ID: {}\".format(self.student_id))\n",
    "  \n",
    "  @classmethod\n",
    "  def show_school(): # 补充\n",
    "    print(f\"School: {cls.school}\")"
   ]
  },
  {
   "cell_type": "markdown",
   "id": "8c4662f2-cc40-47f0-bed1-565c7069a863",
   "metadata": {},
   "source": [
    "测试10：调用类方法"
   ]
  },
  {
   "cell_type": "code",
   "execution_count": 79,
   "id": "3eb7749f-4802-41df-8624-4a265f4a5936",
   "metadata": {},
   "outputs": [
    {
     "ename": "TypeError",
     "evalue": "Student.show_school() takes 0 positional arguments but 1 was given",
     "output_type": "error",
     "traceback": [
      "\u001b[31m---------------------------------------------------------------------------\u001b[39m",
      "\u001b[31mTypeError\u001b[39m                                 Traceback (most recent call last)",
      "\u001b[36mCell\u001b[39m\u001b[36m \u001b[39m\u001b[32mIn[79]\u001b[39m\u001b[32m, line 1\u001b[39m\n\u001b[32m----> \u001b[39m\u001b[32m1\u001b[39m \u001b[43mStudent\u001b[49m\u001b[43m.\u001b[49m\u001b[43mshow_school\u001b[49m\u001b[43m(\u001b[49m\u001b[43m)\u001b[49m\n\u001b[32m      2\u001b[39m \u001b[38;5;28;01mtry\u001b[39;00m:\n\u001b[32m      3\u001b[39m   Person.show_school()  \u001b[38;5;66;03m# 检查Person是否有该方法\u001b[39;00m\n",
      "\u001b[31mTypeError\u001b[39m: Student.show_school() takes 0 positional arguments but 1 was given"
     ]
    }
   ],
   "source": [
    "Student.show_school()\n",
    "try:\n",
    "  Person.show_school()  # 检查Person是否有该方法\n",
    "except AttributeError as e:\n",
    "  print(\"Person.show_school() 结果:\", e)"
   ]
  },
  {
   "cell_type": "markdown",
   "id": "d4e5748f-5c68-43c6-b5f8-3434fcbe53f9",
   "metadata": {},
   "source": [
    "# 11. 创建Teacher类继承Person，添加subject属性"
   ]
  },
  {
   "cell_type": "code",
   "execution_count": 76,
   "id": "03a8b3ad-cb16-4234-85c8-004457a62e1d",
   "metadata": {},
   "outputs": [],
   "source": [
    "class Teacher(Person):\n",
    "  def __init__(self, name, age, subject):\n",
    "    Person.__init__(name, age)\n",
    "    self.subject =  # 补充\n",
    "  \n",
    "  def show_info(self):\n",
    "    Person.show_info()\n",
    "    print(f\"Subject: {self.subject}\")"
   ]
  },
  {
   "cell_type": "markdown",
   "id": "97a82c26-4ed4-4c75-b11a-90be8b00ab76",
   "metadata": {},
   "source": [
    "测试12：创建Teacher实例并调用show_info"
   ]
  },
  {
   "cell_type": "code",
   "execution_count": 36,
   "id": "6262499a-9ff7-4eb9-b886-a63b3bbb3464",
   "metadata": {},
   "outputs": [
    {
     "name": "stdout",
     "output_type": "stream",
     "text": [
      "Name: Mr. Zhang, Age: 45, ID: 3005828506560\n",
      "Subject: Mathematics\n",
      "--------------------------------------------------\n"
     ]
    }
   ],
   "source": [
    "t = Teacher(\"Mr. Zhang\", 45, \"Mathematics\")\n",
    "t.show_info()\n",
    "\n",
    "print(\"-\" * 50)"
   ]
  },
  {
   "cell_type": "markdown",
   "id": "78f7ff84-0ef4-47a8-b3a9-54bf3b30d0d2",
   "metadata": {},
   "source": [
    "13. 多态演示：创建函数接受Person对象"
   ]
  },
  {
   "cell_type": "code",
   "execution_count": 37,
   "id": "1dc8de55-734b-441a-96e8-46845d649fa2",
   "metadata": {},
   "outputs": [],
   "source": [
    "def display_person_info(person):\n",
    "  person.show_info()"
   ]
  },
  {
   "cell_type": "markdown",
   "id": "4a7a7239-1ec4-450a-9cfb-fbe2058536fd",
   "metadata": {},
   "source": [
    "测试13：传入不同子类对象"
   ]
  },
  {
   "cell_type": "code",
   "execution_count": 77,
   "id": "14ca3175-286a-4436-ba5c-cb9637552afa",
   "metadata": {},
   "outputs": [
    {
     "ename": "TypeError",
     "evalue": "Person.__init__() missing 1 required positional argument: 'age'",
     "output_type": "error",
     "traceback": [
      "\u001b[31m---------------------------------------------------------------------------\u001b[39m",
      "\u001b[31mTypeError\u001b[39m                                 Traceback (most recent call last)",
      "\u001b[36mCell\u001b[39m\u001b[36m \u001b[39m\u001b[32mIn[77]\u001b[39m\u001b[32m, line 1\u001b[39m\n\u001b[32m----> \u001b[39m\u001b[32m1\u001b[39m s = \u001b[43mStudent\u001b[49m\u001b[43m(\u001b[49m\u001b[33;43m\"\u001b[39;49m\u001b[33;43mSun\u001b[39;49m\u001b[33;43m\"\u001b[39;49m\u001b[43m,\u001b[49m\u001b[43m \u001b[49m\u001b[32;43m20\u001b[39;49m\u001b[43m,\u001b[49m\u001b[43m \u001b[49m\u001b[33;43m\"\u001b[39;49m\u001b[33;43m2025113344\u001b[39;49m\u001b[33;43m\"\u001b[39;49m\u001b[43m)\u001b[49m\n\u001b[32m      2\u001b[39m t = Teacher(\u001b[33m\"\u001b[39m\u001b[33mZhang\u001b[39m\u001b[33m\"\u001b[39m, \u001b[32m45\u001b[39m, \u001b[33m\"\u001b[39m\u001b[33mMath\u001b[39m\u001b[33m\"\u001b[39m)\n\u001b[32m      3\u001b[39m \u001b[38;5;28mprint\u001b[39m(\u001b[33m\"\u001b[39m\u001b[33m显示Student信息:\u001b[39m\u001b[33m\"\u001b[39m)\n",
      "\u001b[36mCell\u001b[39m\u001b[36m \u001b[39m\u001b[32mIn[73]\u001b[39m\u001b[32m, line 5\u001b[39m, in \u001b[36mStudent.__init__\u001b[39m\u001b[34m(self, name, age, student_id)\u001b[39m\n\u001b[32m      4\u001b[39m \u001b[38;5;28;01mdef\u001b[39;00m\u001b[38;5;250m \u001b[39m\u001b[34m__init__\u001b[39m(\u001b[38;5;28mself\u001b[39m, name, age, student_id):\n\u001b[32m----> \u001b[39m\u001b[32m5\u001b[39m   \u001b[43mPerson\u001b[49m\u001b[43m.\u001b[49m\u001b[34;43m__init__\u001b[39;49m\u001b[43m(\u001b[49m\u001b[43mname\u001b[49m\u001b[43m,\u001b[49m\u001b[43m \u001b[49m\u001b[43mage\u001b[49m\u001b[43m)\u001b[49m\n\u001b[32m      6\u001b[39m   \u001b[38;5;28mself\u001b[39m.student_id = student_id\n",
      "\u001b[31mTypeError\u001b[39m: Person.__init__() missing 1 required positional argument: 'age'"
     ]
    }
   ],
   "source": [
    "s = Student(\"Sun\", 20, \"2025113344\")\n",
    "t = Teacher(\"Zhang\", 45, \"Math\")\n",
    "print(\"显示Student信息:\")\n",
    "display_person_info(s)\n",
    "print(\"显示Teacher信息:\")\n",
    "display_person_info(t)\n",
    "\n",
    "print(\"-\" * 50)"
   ]
  },
  {
   "cell_type": "markdown",
   "id": "2c72229d-edaa-4b0f-a456-809b97298843",
   "metadata": {},
   "source": [
    "# 14. 在Student中添加私有属性__grade和公有方法get_grade"
   ]
  },
  {
   "cell_type": "code",
   "execution_count": 40,
   "id": "cea0854b-cccb-49fd-a47a-ec43c7f31b4c",
   "metadata": {},
   "outputs": [],
   "source": [
    "class Student(Person):\n",
    "  school = \"CIIT\"\n",
    "  \n",
    "  def __init__(self, name, age, student_id, grade):\n",
    "    super().__init__(name, age)\n",
    "    self.student_id = student_id\n",
    "    self.__grade = grade\n",
    "  \n",
    "  def show_info(self):\n",
    "    super().show_info()\n",
    "    print(f\"Student ID: {self.student_id}\")\n",
    "  \n",
    "  @classmethod\n",
    "  def show_school(cls):\n",
    "    print(f\"School: {cls.school}\")\n",
    "  \n",
    "  @staticmethod\n",
    "  def check_adult(age):\n",
    "    return age >= 18\n",
    "  \n",
    "  def get_grade(): # 补充\n",
    "    return self.__grade"
   ]
  },
  {
   "cell_type": "markdown",
   "id": "80d4c5ff-9490-4b99-b8fa-92c43c56b40f",
   "metadata": {},
   "source": [
    "测试14：通过公有方法访问私有属性"
   ]
  },
  {
   "cell_type": "code",
   "execution_count": 42,
   "id": "c85b3997-7eec-4847-8ac8-837fd0b82150",
   "metadata": {},
   "outputs": [
    {
     "name": "stdout",
     "output_type": "stream",
     "text": [
      "Grade: A\n",
      "--------------------------------------------------\n"
     ]
    }
   ],
   "source": [
    "s2 = Student(\"xiaogang\", 19, \"S67890\", \"A\")\n",
    "print(f\"Grade: {s2.get_grade()}\")\n",
    "\n",
    "print(\"-\" * 50)"
   ]
  }
 ],
 "metadata": {
  "kernelspec": {
   "display_name": "Python 3 (ipykernel)",
   "language": "python",
   "name": "python3"
  },
  "language_info": {
   "codemirror_mode": {
    "name": "ipython",
    "version": 3
   },
   "file_extension": ".py",
   "mimetype": "text/x-python",
   "name": "python",
   "nbconvert_exporter": "python",
   "pygments_lexer": "ipython3",
   "version": "3.13.7"
  }
 },
 "nbformat": 4,
 "nbformat_minor": 5
}
