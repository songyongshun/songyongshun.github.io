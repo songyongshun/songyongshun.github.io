{
 "cells": [
  {
   "cell_type": "markdown",
   "id": "3e945b05",
   "metadata": {},
   "source": [
    "Python 异常处理练习题（循序渐进）"
   ]
  },
  {
   "cell_type": "markdown",
   "id": "8fc0ed75",
   "metadata": {
    "lines_to_next_cell": 0
   },
   "source": [
    "练习1：基础异常捕获\n",
    "以下代码会报错，用 try-except 捕获并打印 \"发生错误\""
   ]
  },
  {
   "cell_type": "code",
   "execution_count": null,
   "id": "170a9e5d",
   "metadata": {},
   "outputs": [],
   "source": [
    "try:\n",
    "  5 / 0\n",
    "except:\n",
    "  print(\"发生错误\")"
   ]
  },
  {
   "cell_type": "markdown",
   "id": "173f0847",
   "metadata": {
    "lines_to_next_cell": 0
   },
   "source": [
    "练习2：捕获特定异常\n",
    "捕获 ZeroDivisionError，并打印 \"不能除以零\""
   ]
  },
  {
   "cell_type": "code",
   "execution_count": null,
   "id": "ae720e47",
   "metadata": {},
   "outputs": [],
   "source": [
    "try:\n",
    "  5 / 0\n",
    "except ZeroDivisionError:\n",
    "  print(\"不能除以零\")"
   ]
  },
  {
   "cell_type": "markdown",
   "id": "af83bf72",
   "metadata": {
    "lines_to_next_cell": 0
   },
   "source": [
    "练习3：多个异常类型\n",
    "输入一个字符串，尝试转为整数。捕获 ValueError 和 TypeError"
   ]
  },
  {
   "cell_type": "code",
   "execution_count": null,
   "id": "b62111e3",
   "metadata": {},
   "outputs": [],
   "source": [
    "try:\n",
    "  num = int(\"abc\")\n",
    "except :  # 1.TODO\n",
    "  print(\"输入的不是有效数字\")\n",
    "except TypeError:\n",
    "  print(\"类型错误\")"
   ]
  },
  {
   "cell_type": "markdown",
   "id": "5a7d99ea",
   "metadata": {
    "lines_to_next_cell": 0
   },
   "source": [
    "练习4：使用 else 和 finally\n",
    "输入一个数字，尝试计算平方根。成功时打印结果，失败时提示错误，无论成败都打印“操作结束”"
   ]
  },
  {
   "cell_type": "code",
   "execution_count": null,
   "id": "eac74d77",
   "metadata": {},
   "outputs": [],
   "source": [
    "try:\n",
    "  x = int(input(\"请输入一个数字: \"))\n",
    "  result = math.sqrt(x)\n",
    "except ValueError:\n",
    "  print(\"请输入有效数字\")\n",
    "else:\n",
    "  print(f\"平方根是: {result}\")\n",
    ":  # 2. TODO\n",
    "  print(\"操作结束\")"
   ]
  },
  {
   "cell_type": "markdown",
   "id": "92450dbf",
   "metadata": {
    "lines_to_next_cell": 0
   },
   "source": [
    "练习5：读取不存在的文件\n",
    "尝试打开一个不存在的文件，捕获 FileNotFoundError 并提示“文件未找到”"
   ]
  },
  {
   "cell_type": "code",
   "execution_count": null,
   "id": "44b4243e",
   "metadata": {},
   "outputs": [],
   "source": [
    "try:\n",
    "  with open(\"nonexistent.txt\", \"r\") as f:\n",
    "    content = f.read()\n",
    "except FileNotFoundError:\n",
    "  # 3. TODO"
   ]
  },
  {
   "cell_type": "markdown",
   "id": "2bb7a53e",
   "metadata": {
    "lines_to_next_cell": 0
   },
   "source": [
    "练习6：处理列表索引越界\n",
    "创建一个列表 [1,2,3]，尝试访问索引 5，捕获 IndexError"
   ]
  },
  {
   "cell_type": "code",
   "execution_count": null,
   "id": "ec4418c6",
   "metadata": {
    "lines_to_next_cell": 1
   },
   "outputs": [],
   "source": [
    "my_list = # 4. TODO\n",
    "try:\n",
    "  print(my_list[5])\n",
    "except IndexError:\n",
    "  print(\"索引超出范围\")"
   ]
  },
  {
   "cell_type": "markdown",
   "id": "c8033daf",
   "metadata": {
    "lines_to_next_cell": 0
   },
   "source": [
    "练习7：嵌套异常处理\n",
    "在 try 块中调用一个函数，该函数内部可能抛出异常，外层捕获并处理"
   ]
  },
  {
   "cell_type": "code",
   "execution_count": null,
   "id": "c21643f0",
   "metadata": {},
   "outputs": [],
   "source": [
    "def risky_function():\n",
    "  return 10 / int(input(\"输入一个非零数字: \"))\n",
    "\n",
    "try:\n",
    "  result =   # 5. TODO\n",
    "  print(f\"结果: {result}\")\n",
    "except ZeroDivisionError:\n",
    "  print(\"不能除以零\")\n",
    "except ValueError:\n",
    "  print(\"输入无效\")"
   ]
  },
  {
   "cell_type": "markdown",
   "id": "9ce6b539",
   "metadata": {
    "lines_to_next_cell": 0
   },
   "source": [
    "练习8：捕获多个异常到同一处理块\n",
    "尝试执行以下操作：访问字典不存在的键、除零、列表越界，统一用一个 except 处理"
   ]
  },
  {
   "cell_type": "code",
   "execution_count": null,
   "id": "0c2f3a64",
   "metadata": {},
   "outputs": [],
   "source": [
    "data = {\"a\": 1}\n",
    "try:\n",
    "  value = data[\"b\"]\n",
    "  result = 5 / 0\n",
    "  item = [1,2][5]\n",
    "except (KeyError, ZeroDivisionError, IndexError):\n",
    "  print(\"发生了一个已知错误\")"
   ]
  },
  {
   "cell_type": "markdown",
   "id": "dfa42bc1",
   "metadata": {
    "lines_to_next_cell": 0
   },
   "source": [
    "练习9：获取异常信息\n",
    "捕获异常时，打印异常的具体类型和信息"
   ]
  },
  {
   "cell_type": "code",
   "execution_count": null,
   "id": "5951f8fc",
   "metadata": {
    "lines_to_next_cell": 1
   },
   "outputs": [],
   "source": [
    "try:\n",
    "  num = int(\"hello\")\n",
    "except Exception as : # 6. TODO\n",
    "  print(f\"异常类型: {type(e).__name__}\")\n",
    "  print(f\"异常信息: {e}\")"
   ]
  },
  {
   "cell_type": "markdown",
   "id": "2a520406",
   "metadata": {
    "lines_to_next_cell": 0
   },
   "source": [
    "练习10：综合应用 - 安全计算器\n",
    "实现一个简单计算器，支持加减乘除，输入非数字或除零时提示错误，不崩溃"
   ]
  },
  {
   "cell_type": "code",
   "execution_count": null,
   "id": "be2b9701",
   "metadata": {},
   "outputs": [],
   "source": [
    "def safe_calculator():\n",
    "  try:\n",
    "    a = float(input(\"请输入第一个数: \"))\n",
    "    op = input(\"请输入运算符 (+, -, *, /): \")\n",
    "    b = float(input(\"请输入第二个数: \"))\n",
    "    \n",
    "    if op == \"+\":\n",
    "      result = a + b\n",
    "    elif op == \"-\":\n",
    "      result = a - b\n",
    "    elif op == : # 7. TODO\n",
    "      result = a * b\n",
    "    elif op == \"/\":\n",
    "      if b == 0:\n",
    "        print(\"除数不能为零\")\n",
    "        return\n",
    "      result = a / b\n",
    "    else:\n",
    "      print(\"不支持的运算符\")\n",
    "      return\n",
    "    \n",
    "    print(f\"结果: {result}\")\n",
    "  except ValueError:\n",
    "    print(\"输入不是有效数字\")\n",
    "  except Exception:\n",
    "    print(\"未知错误\")\n",
    "\n",
    "# 运行测试\n",
    "safe_calculator()"
   ]
  }
 ],
 "metadata": {
  "jupytext": {
   "cell_metadata_filter": "-all",
   "main_language": "python",
   "notebook_metadata_filter": "-all"
  },
  "language_info": {
   "name": "python"
  }
 },
 "nbformat": 4,
 "nbformat_minor": 5
}
