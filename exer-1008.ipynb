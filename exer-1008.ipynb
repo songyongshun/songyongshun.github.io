{
 "cells": [
  {
   "cell_type": "markdown",
   "id": "8a02cde7",
   "metadata": {},
   "source": [
    "Tkinter 进阶练习"
   ]
  },
  {
   "cell_type": "markdown",
   "id": "2c274b68",
   "metadata": {},
   "source": [
    "练习1：用户登录界面练习\n",
    "# 测试以下代码，理解其功能"
   ]
  },
  {
   "cell_type": "code",
   "execution_count": null,
   "id": "d0b036fd",
   "metadata": {
    "lines_to_next_cell": 2
   },
   "outputs": [],
   "source": [
    "import tkinter as tk\n",
    "import tkinter.messagebox as msg\n",
    "\n",
    "# 登录处理\n",
    "def login():\n",
    "  if name.get() == \"admin\" and pwd.get() == \"123456\":\n",
    "     msg.showinfo(\"提示\", \"登录成功\")\n",
    "     root.destroy()\n",
    "  else:\n",
    "     msg.showerror(\"提示\", \"用户名或密码错误\")\n",
    "     name.set(\"\")\n",
    "     pwd.set(\"\")\n",
    "    \n",
    "# 创建窗口\n",
    "root = tk.Tk()\n",
    "root.title(\"登录\")\n",
    "root.geometry(\"300x150\")\n",
    "\n",
    "# 两个标签\n",
    "label_1 = tk.Label(root, text=\"用户名:\")\n",
    "label_1.grid(row=0, column=0, padx=10, pady=10)\n",
    "label_2 = tk.Label(root, text=\"密码:\")\n",
    "label_2.grid(row=1, column=0, padx=10, pady=10)\n",
    "\n",
    "# 两个输入框\n",
    "name = tk.StringVar()\n",
    "entry_1 = tk.Entry(root, textvariable=name)\n",
    "entry_1.grid(row=0, column=1, padx=10, pady=10)\n",
    "pwd = tk.StringVar()\n",
    "entry_2 = tk.Entry(root, textvariable=pwd, show=\"*\")\n",
    "entry_2.grid(row=1, column=1, padx=10, pady=10)\n",
    "\n",
    "# 两个按钮\n",
    "button_1 = tk.Button(root, text=\"登录\", command=login)\n",
    "button_1.grid(row=2, column=0, padx=10, pady=10)\n",
    "button_2 = tk.Button(root, text=\"退出\", command=root.destroy)\n",
    "button_2.grid(row=2, column=1, padx=10, pady=10)\n",
    "\n",
    "root.mainloop()"
   ]
  },
  {
   "cell_type": "markdown",
   "id": "3f028fa0",
   "metadata": {},
   "source": [
    "# 在理解上面代码的基础上，完成以下练习，实现从文件中读取用户名和密码进行验证。"
   ]
  },
  {
   "cell_type": "code",
   "execution_count": null,
   "id": "7dabab35",
   "metadata": {
    "lines_to_next_cell": 2
   },
   "outputs": [],
   "source": [
    "import tkinter as tk\n",
    "import tkinter.messagebox as msg\n",
    "\n",
    "# 从文件读取密码本\n",
    "def load_passwords(filename=):  # 1. 请补充 \n",
    "  passwords = {}\n",
    "  with open(filename, \"r\", encoding=\"utf-8\") as f:\n",
    "    for line in f:\n",
    "      line = line.strip()\n",
    "      if line:\n",
    "        parts = line.split(\",\") # 以逗号分隔用户名和密码\n",
    "        if len(parts) >= 2:\n",
    "          usernames, password = parts[0], parts[1]\n",
    "          passwords[usernames] = password\n",
    "          print(f\"Loaded user: {usernames} with password: {password}\")\n",
    "  return passwords\n",
    "\n",
    "# 登录处理\n",
    "def login():\n",
    "  passwords = load_passwords()\n",
    "  username = name.get()\n",
    "  password = pwd.get()\n",
    "  \n",
    "  if  # 2. 请补充判断条件\n",
    "    msg.showinfo(\"提示\", \"登录成功\")\n",
    "    root.destroy()\n",
    "  else:\n",
    "    msg.showerror(\"提示\", \"用户名或密码错误\")\n",
    "    name.set(\"\")\n",
    "    pwd.set(\"\")\n",
    "\n",
    "# 创建窗口\n",
    "root = tk.Tk()\n",
    "root.title(\"登录\")\n",
    "root.geometry(\"300x150\")\n",
    "\n",
    "# 两个标签\n",
    "label_1 = tk.Label(root, text=\"用户名:\")\n",
    "label_1.grid(row=0, column=0, padx=10, pady=10)\n",
    "label_2 = tk.Label(root, text=\"密码:\")\n",
    "label_2.grid(row=1, column=0, padx=10, pady=10)\n",
    "\n",
    "# 两个输入框\n",
    "name = tk.StringVar()\n",
    "entry_1 = tk.Entry(root, textvariable=name)\n",
    "entry_1.grid(row=0, column=1, padx=10, pady=10)\n",
    "pwd = tk.StringVar()\n",
    "entry_2 = tk.Entry(root, textvariable=pwd, show=\"*\")\n",
    "entry_2.grid(row=1, column=1, padx=10, pady=10)\n",
    "\n",
    "# 两个按钮\n",
    "button_1 = tk.Button(root, text=\"登录\", command=login)\n",
    "button_1.grid(row=2, column=0, padx=10, pady=10)\n",
    "button_2 = tk.Button(root, text=\"退出\", command=root.destroy)\n",
    "button_2.grid(row=2, column=1, padx=10, pady=10)\n",
    "\n",
    "root.mainloop()"
   ]
  },
  {
   "cell_type": "markdown",
   "id": "8936707c",
   "metadata": {},
   "source": [
    "练习2：文件操作界面练习\n",
    "# 请测试以下代码，理解其功能"
   ]
  },
  {
   "cell_type": "code",
   "execution_count": null,
   "id": "86a0d133",
   "metadata": {
    "lines_to_next_cell": 2
   },
   "outputs": [],
   "source": [
    "import tkinter as tk\n",
    "import tkinter.filedialog\n",
    "root = tk.Tk()\n",
    "root.title(\"打开\")\n",
    "def callback():\n",
    "  global label\n",
    "  # 打开文件对话框，选择要打开的文件\n",
    "  filename = tkinter.filedialog.askopenfilename(title=\"选择文件\")\n",
    "  label['text'] = filename\n",
    "\n",
    "# 这里callback不能带参数, 也不能带括号，否则会直接执行.\n",
    "# 因此智能global label, 让callback函数可以修改label的内容\n",
    "tk.Button(root, text=\"打开文件\", command=callback).pack(pady=10)\n",
    "label = tk.Label(root, text=\"文件路径\")\n",
    "label.pack(pady=10)\n",
    "root.mainloop()"
   ]
  },
  {
   "cell_type": "markdown",
   "id": "6d4c6aa6",
   "metadata": {},
   "source": [
    "# 在理解上面代码的基础上，完成以下练习，实现打开文件并显示其内容。"
   ]
  },
  {
   "cell_type": "code",
   "execution_count": null,
   "id": "e2cc74ba",
   "metadata": {},
   "outputs": [],
   "source": [
    "import tkinter as tk\n",
    "import tkinter.filedialog as filedialog\n",
    "\n",
    "root = tk.Tk()\n",
    "root.title(\"打开\")\n",
    "\n",
    "def callback():\n",
    "    global label\n",
    "    # 打开文件对话框，选择要打开的文件\n",
    "    filename = filedialog.askopenfilename(title=\"选择文件\", filetypes=[(\"Text files\", \"*.txt\"), (\"All files\", \"*.*\")])\n",
    "    if not filename: \n",
    "        return  # 用户取消\n",
    "    with open(filename, 'r', encoding='utf-8') as f:\n",
    "            content =  # 3.请补充\n",
    "     = content # 4. 请补充\n",
    "\n",
    "tk.Button(root, text=\"打开文件\", command=callback).pack(pady=10)\n",
    "label = tk.Label(root, text=\"文件内容将显示在此处\")\n",
    "label.pack(pady=10)\n",
    "\n",
    "root.mainloop()"
   ]
  },
  {
   "cell_type": "markdown",
   "id": "92d2bd95",
   "metadata": {},
   "source": [
    "# 进一步将上面的代码修改下，使得将文件的内容显示在Text组件中。"
   ]
  },
  {
   "cell_type": "code",
   "execution_count": null,
   "id": "dc9a7fdf",
   "metadata": {
    "lines_to_next_cell": 2
   },
   "outputs": [],
   "source": [
    "import tkinter as tk\n",
    "import tkinter.filedialog as filedialog\n",
    "\n",
    "root = tk.Tk()\n",
    "root.title(\"打开\")\n",
    "\n",
    "def callback():\n",
    "  filename = filedialog.askopenfilename(title=\"选择文件\", filetypes=[(\"Text files\", \"*.txt\"), (\"All files\", \"*.*\")])\n",
    "  if not filename:\n",
    "    return  # 用户取消\n",
    "  with open(filename, 'r', encoding='utf-8') as f:\n",
    "    content = f.read()\n",
    "  text_box.delete()  # 5. 补充\n",
    "  text_box.insert()  # 6. 补充\n",
    "  \n",
    "\n",
    "tk.Button(root, text=\"打开文件\", command=callback).pack(pady=10)\n",
    "text_box = tk.Text(root, wrap=tk.WORD, width=60, height=20)\n",
    "text_box.pack(pady=10)\n",
    "\n",
    "root.mainloop()"
   ]
  },
  {
   "cell_type": "markdown",
   "id": "873e28a4",
   "metadata": {},
   "source": [
    "## 添加保存功能"
   ]
  },
  {
   "cell_type": "code",
   "execution_count": null,
   "id": "18ebd676",
   "metadata": {
    "lines_to_next_cell": 2
   },
   "outputs": [],
   "source": [
    "import tkinter as tk\n",
    "import tkinter.filedialog as filedialog\n",
    "\n",
    "root = tk.Tk()\n",
    "root.title(\"打开\")\n",
    "\n",
    "def callback():\n",
    "  filename = filedialog.askopenfilename(title=\"选择文件\", filetypes=[(\"Text files\", \"*.txt\"), (\"All files\", \"*.*\")])\n",
    "  if not filename:\n",
    "    return  # 用户取消\n",
    "  with open(filename, 'r', encoding='utf-8') as f:\n",
    "    content = f.read()\n",
    "  text_box.delete(1.0, tk.END)  # 清空文本框\n",
    "  text_box.insert(tk.END, content)  # 插入新内容\n",
    "\n",
    "def save_file():\n",
    "  filename = filedialog.asksaveasfilename(title=\"保存文件\", defaultextension=\".txt\", \n",
    "                      filetypes=[(\"Text files\", \"*.txt\"), (\"All files\", \"*.*\")])\n",
    "  if not filename:\n",
    "    return  # 用户取消\n",
    "  content = text_box.get()  # 7. 请补充\n",
    "  with open(filename, 'w', encoding='utf-8') as f:\n",
    "     # 8. 请补充\n",
    "\n",
    "tk.Button(root, text=\"打开文件\", command=callback).pack(pady=10)\n",
    "tk.Button(root, text=\"保存\", command=save_file).pack(pady=10)\n",
    "text_box = tk.Text(root, wrap=tk.WORD, width=60, height=20)\n",
    "text_box.pack(pady=10)\n",
    "\n",
    "root.mainloop()"
   ]
  }
 ],
 "metadata": {
  "jupytext": {
   "cell_metadata_filter": "-all",
   "main_language": "python",
   "notebook_metadata_filter": "-all"
  },
  "language_info": {
   "name": "python"
  }
 },
 "nbformat": 4,
 "nbformat_minor": 5
}
