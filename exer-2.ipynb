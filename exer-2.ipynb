{
 "cells": [
  {
   "cell_type": "markdown",
   "id": "dfebab9d",
   "metadata": {},
   "source": [
    "Tkinter 进阶练习 - Jupyter Notebook 格式"
   ]
  },
  {
   "cell_type": "markdown",
   "id": "705021e7",
   "metadata": {},
   "source": [
    "练习1：使用Grid布局管理器"
   ]
  },
  {
   "cell_type": "code",
   "execution_count": null,
   "id": "9ba03a38",
   "metadata": {},
   "outputs": [
    {
     "ename": "SyntaxError",
     "evalue": "expected argument value expression (3946522828.py, line 15)",
     "output_type": "error",
     "traceback": [
      "  \u001b[36mCell\u001b[39m\u001b[36m \u001b[39m\u001b[32mIn[2]\u001b[39m\u001b[32m, line 15\u001b[39m\n\u001b[31m    \u001b[39m\u001b[31mpassword_entry.grid(row=1, column=, padx=5, pady=5) # 补充\u001b[39m\n                               ^\n\u001b[31mSyntaxError\u001b[39m\u001b[31m:\u001b[39m expected argument value expression\n"
     ]
    }
   ],
   "source": [
    "import tkinter as tk\n",
    "\n",
    "root = tk.Tk()\n",
    "root.title(\"Grid 布局练习\")\n",
    "root.geometry(\"300x200\")\n",
    "\n",
    "# 创建标签和输入框，使用grid布局\n",
    "tk.Label(root, text=\"用户名:\").grid(row=0, column=0, padx=5, pady=5)\n",
    "username_entry = tk.Entry(root)\n",
    "username_entry.grid(row=0, column=1, padx=5, pady=5)\n",
    "\n",
    "tk.Label(root, text=\"密码:\").grid(row=1, column=0, padx=5, pady=5)\n",
    "password_entry = tk.Entry(root, show=\"*\")\n",
    "password_entry.grid(row=1, column=, padx=5, pady=5) # 补充\n",
    "\n",
    "# 提交按钮\n",
    "submit_button = tk.Button(root, text=\"提交\")\n",
    "submit_button.grid(row=2, columnspan=2, pady=10)\n",
    "\n",
    "root.mainloop()"
   ]
  },
  {
   "cell_type": "markdown",
   "id": "79f18f82",
   "metadata": {},
   "source": [
    "练习2：菜单栏的使用"
   ]
  },
  {
   "cell_type": "code",
   "execution_count": null,
   "id": "1cb9dc7d",
   "metadata": {
    "lines_to_next_cell": 1
   },
   "outputs": [],
   "source": [
    "from tkinter import messagebox\n",
    "import tkinter as tk\n",
    "\n",
    "root = tk.Tk()\n",
    "root.title(\"菜单栏练习\")\n",
    "root.geometry(\"300x200\")\n",
    "\n",
    "# 创建菜单栏\n",
    "menu_bar = tk.Menu(root)\n",
    "root.config(menu=menu_bar)\n",
    "\n",
    "# 定义messagebox函数\n",
    "def on_save():\n",
    "    messagebox.showinfo(\"提示\", \"保存文件\")\n",
    "\n",
    "def on_open():\n",
    "    messagebox.showinfo(\"提示\", \"打开文件\")\n",
    "\n",
    "def on_copy():\n",
    "    messagebox.showinfo(\"提示\", \"复制文件\")\n",
    "\n",
    "def on_paste():\n",
    "    messagebox.showinfo(\"提示\", \"粘贴文件\")\n",
    "\n",
    "# 文件菜单\n",
    "file_menu = tk.Menu(menu_bar)\n",
    "file_menu.add_command(label=\"打开\", command=on_open)\n",
    "file_menu.add_command(label=\"保存\", command=on_save)\n",
    "file_menu.add_separator()\n",
    "file_menu.add_command(label=\"退出\")\n",
    "\n",
    "menu_bar.add_cascade(label=\"文件\", menu=file_menu)\n",
    "\n",
    "# 编辑菜单\n",
    "edit_menu = tk.Menu(menu_bar)\n",
    "edit_menu.add_command(label=\"复制\", command=on_copy)\n",
    "edit_menu.add_command(label=\"粘贴\", command=)  # 补充\n",
    "\n",
    "menu_bar.add_cascade(label=\"编辑\", menu=edit_menu)\n",
    "\n",
    "root.mainloop()"
   ]
  },
  {
   "cell_type": "markdown",
   "id": "53e6cb39",
   "metadata": {},
   "source": [
    "练习3：键盘事件处理"
   ]
  },
  {
   "cell_type": "code",
   "execution_count": null,
   "id": "623a587f",
   "metadata": {
    "lines_to_next_cell": 1
   },
   "outputs": [],
   "source": [
    "import tkinter as tk\n",
    "\n",
    "def on_key_press(event):\n",
    "  print(f\"按下的键是: {event.char}\")\n",
    "\n",
    "root = tk.Tk()\n",
    "root.title(\"键盘事件练习\")\n",
    "root.geometry(\"300x200\")\n",
    "\n",
    "# 绑定键盘事件\n",
    "root.bind(\"<Key>\", ) # 补充\n",
    "\n",
    "label = tk.Label(root, text=\"按下任意键查看输出!\")\n",
    "label.pack(pady=50)\n",
    "\n",
    "root.mainloop()"
   ]
  },
  {
   "cell_type": "markdown",
   "id": "d483d287",
   "metadata": {},
   "source": [
    "练习4：鼠标事件处理"
   ]
  },
  {
   "cell_type": "code",
   "execution_count": null,
   "id": "2dd4dce1",
   "metadata": {},
   "outputs": [
    {
     "name": "stdout",
     "output_type": "stream",
     "text": [
      "鼠标点击位置: (115, 104)\n",
      "鼠标点击位置: (201, 105)\n",
      "鼠标点击位置: (174, 169)\n",
      "鼠标点击位置: (67, 24)\n"
     ]
    }
   ],
   "source": [
    "import tkinter as tk\n",
    "\n",
    "def on_mouse_click(event):\n",
    "  print(f\"鼠标点击位置: ({event.x}, {event.y})\")\n",
    "\n",
    "root = tk.Tk()\n",
    "root.title(\"鼠标事件练习\")\n",
    "root.geometry(\"300x200\")\n",
    "\n",
    "# 绑定鼠标左键点击事件\n",
    "canvas = tk.Canvas(root, width=300, height=200, bg=\"white\")\n",
    "canvas.pack()\n",
    "canvas.bind(\"<Button-1>\", ) # 补充\n",
    "\n",
    "label = tk.Label(root, text=\"在画布上点击!\")\n",
    "label.pack(pady=10)\n",
    "\n",
    "root.mainloop()"
   ]
  },
  {
   "cell_type": "markdown",
   "id": "d10ded0d",
   "metadata": {},
   "source": [
    "练习5：综合使用Grid和Menu"
   ]
  },
  {
   "cell_type": "code",
   "execution_count": null,
   "id": "6991efe1",
   "metadata": {
    "lines_to_next_cell": 1
   },
   "outputs": [],
   "source": [
    "import tkinter as tk\n",
    "\n",
    "root = tk.Tk()\n",
    "root.title(\"Grid与Menu综合练习\")\n",
    "root.geometry(\"400x300\")\n",
    "\n",
    "# 创建菜单栏\n",
    "menu_bar = tk.Menu(root)\n",
    "root.config(menu=menu_bar)\n",
    "\n",
    "# 文件菜单\n",
    "file_menu = tk.Menu(menu_bar, tearoff=0)\n",
    "file_menu.add_command(label=\"新建\", command=lambda: messagebox.showinfo(\"提示\", \"新建文件\"))\n",
    "file_menu.add_command(label=\"打开\", command=lambda: messagebox.showinfo(\"提示\", \"打开文件\"))\n",
    "file_menu.add_separator()\n",
    "file_menu.add_command(label=\"退出\", command=root.quit)\n",
    "menu_bar.add_cascade(label=\"文件\", menu=file_menu)\n",
    "\n",
    "# 主界面布局\n",
    "frame = tk.Frame(root)\n",
    "frame.pack(pady=20)\n",
    "\n",
    "tk.Label(frame, text=\"姓名:\").grid(row=0, column=0, padx=5, pady=5)\n",
    "name_entry = tk.Entry(frame)\n",
    "name_entry.grid(row=0, column=, padx=5, pady=5) # 补充\n",
    " \n",
    "tk.Label(frame, text=\"年龄:\").grid(row=1, column=0, padx=5, pady=5)\n",
    "age_entry = tk.Entry(frame)\n",
    "age_entry.grid(row=1, column=1, padx=5, pady=5)\n",
    "\n",
    "# 提交按钮\n",
    "submit_button = tk.Button(root, text=\"提交\")\n",
    "submit_button.pack(pady=10)\n",
    "\n",
    "root.mainloop()"
   ]
  },
  {
   "cell_type": "markdown",
   "id": "91a0befb",
   "metadata": {},
   "source": [
    "练习6：结合Grid、Menu和事件处理"
   ]
  },
  {
   "cell_type": "code",
   "execution_count": null,
   "id": "2e96e432",
   "metadata": {},
   "outputs": [
    {
     "name": "stdout",
     "output_type": "stream",
     "text": [
      "鼠标点击位置: (195, 115)\n",
      "鼠标点击位置: (99, 73)\n"
     ]
    }
   ],
   "source": [
    "import tkinter as tk\n",
    "\n",
    "def on_key_press(event):\n",
    "  print(f\"按下的键是: {event.char}\")\n",
    "\n",
    "def on_mouse_click(event):\n",
    "  print(f\"鼠标点击位置: ({event.x}, {event.y})\")\n",
    "\n",
    "root = tk.Tk()\n",
    "root.title(\"综合练习\")\n",
    "root.geometry(\"400x300\")\n",
    "\n",
    "# 创建菜单栏\n",
    "menu_bar = tk.Menu(root)\n",
    "root.config(menu=menu_bar)\n",
    "\n",
    "# 文件菜单\n",
    "file_menu = tk.Menu(menu_bar, tearoff=0)\n",
    "file_menu.add_command(label=\"设置\", command=lambda: messagebox.showinfo(\"提示\", \"进入设置\"))\n",
    "file_menu.add_separator()\n",
    "file_menu.add_command(label=\"退出\", command=root.quit)\n",
    "menu_bar.add_cascade(label=\"文件\", menu=file_menu)\n",
    "\n",
    "# 主界面布局\n",
    "frame = tk.Frame(root)\n",
    "frame.pack(pady=20)\n",
    "\n",
    "tk.Label(frame, text=\"用户名:\").grid(row=0, column=0, padx=5, pady=5)\n",
    "username_entry = tk.Entry(frame)\n",
    "username_entry.grid(row=0, column=1, padx=5, pady=5)\n",
    "\n",
    "tk.Label(frame, text=\"密码:\").grid(row=1, column=0, padx=5, pady=5)\n",
    "password_entry = tk.Entry(frame, show=\"*\")\n",
    "password_entry.grid(row=1, column=1, padx=5, pady=5)\n",
    "\n",
    "# 绑定键盘和鼠标事件\n",
    "root.bind(\"<Key>\", ) # 补充\n",
    "canvas = tk.Canvas(root, width=300, height=200, bg=\"white\")\n",
    "canvas.pack()\n",
    "canvas.bind(\"<Button-1>\", on_mouse_click)\n",
    "\n",
    "label = tk.Label(root, text=\"按下任意键或在画布上点击!\")\n",
    "label.pack(pady=10)\n",
    "\n",
    "root.mainloop()"
   ]
  },
  {
   "cell_type": "code",
   "execution_count": null,
   "id": "5283ec44",
   "metadata": {},
   "outputs": [],
   "source": []
  }
 ],
 "metadata": {
  "jupytext": {
   "cell_metadata_filter": "-all",
   "main_language": "python",
   "notebook_metadata_filter": "-all"
  },
  "kernelspec": {
   "display_name": "jupyter",
   "language": "python",
   "name": "python3"
  },
  "language_info": {
   "codemirror_mode": {
    "name": "ipython",
    "version": 3
   },
   "file_extension": ".py",
   "mimetype": "text/x-python",
   "name": "python",
   "nbconvert_exporter": "python",
   "pygments_lexer": "ipython3",
   "version": "3.13.7"
  }
 },
 "nbformat": 4,
 "nbformat_minor": 5
}
