{
 "cells": [
  {
   "cell_type": "markdown",
   "metadata": {},
   "source": [
    "# Turtle 基础练习"
   ]
  },
  {
   "cell_type": "markdown",
   "metadata": {},
   "source": [
    "## 练习1：创建Turtle实例和Screen设置"
   ]
  },
  {
   "cell_type": "code",
   "execution_count": 1,
   "metadata": {},
   "outputs": [],
   "source": [
    "import turtle\n",
    "\n",
    "# 创建屏幕对象\n",
    "screen = turtle.Screen()\n",
    "screen.title(\"Turtle 练习\")  # 设置窗口标题为\"我的第一个Turtle程序\"\n",
    "\n",
    "# 创建海龟对象\n",
    "t = turtle.Turtle()  # 创建名为my_turtle的海龟对象\n",
    "turtle.done()"
   ]
  },
  {
   "cell_type": "markdown",
   "metadata": {},
   "source": [
    "## 练习2：画笔颜色设置和前进移动"
   ]
  },
  {
   "cell_type": "code",
   "execution_count": null,
   "metadata": {},
   "outputs": [],
   "source": [
    "import turtle\n",
    "\n",
    "t = turtle.Turtle()\n",
    "\n",
    "# 设置画笔颜色\n",
    "t.color(\"\")  # 补充，设置画笔颜色为红色\n",
    "\n",
    "# 前进移动\n",
    "t.forward()  # 补充，向前移动100像素\n",
    "\n",
    "turtle.done()"
   ]
  },
  {
   "cell_type": "markdown",
   "metadata": {},
   "source": [
    "## 练习3：后退移动和旋转"
   ]
  },
  {
   "cell_type": "code",
   "execution_count": null,
   "metadata": {},
   "outputs": [],
   "source": [
    "import turtle\n",
    "\n",
    "t = turtle.Turtle()\n",
    "t.color(\"blue\")\n",
    "\n",
    "# 前进和后退\n",
    "t.forward(50)\n",
    "t.backward()  # 补充，向后移动30像素\n",
    "\n",
    "# 旋转\n",
    "t.left()  # 补充，向左旋转90度\n",
    "t.forward(40)\n",
    "turtle.done()"
   ]
  },
  {
   "cell_type": "markdown",
   "metadata": {},
   "source": [
    "## 练习4：综合移动和旋转"
   ]
  },
  {
   "cell_type": "code",
   "execution_count": null,
   "metadata": {},
   "outputs": [],
   "source": [
    "import turtle\n",
    "\n",
    "t = turtle.Turtle()\n",
    "t.color(\"green\")\n",
    "\n",
    "# 绘制一个正方形\n",
    "for i in range(4):\n",
    "    t.forward()  # 补充，每次前进80像素\n",
    "    t.right()    # 补充，每次右转90度\n",
    "\n",
    "turtle.done()"
   ]
  },
  {
   "cell_type": "markdown",
   "metadata": {},
   "source": [
    "## 练习5：设置画笔属性和绘制图形"
   ]
  },
  {
   "cell_type": "code",
   "execution_count": null,
   "metadata": {},
   "outputs": [],
   "source": [
    "import turtle\n",
    "\n",
    "t = turtle.Turtle()\n",
    "\n",
    "# 设置画笔属性\n",
    "t.pensize()  # 补充，设置画笔粗细为3\n",
    "t.color(\"purple\")\n",
    "\n",
    "# 绘制一个三角形\n",
    "for i in range(3):\n",
    "    t.forward(60)\n",
    "    t.left()  # 补充，每次左转120度\n",
    "turtle.done()"
   ]
  }
 ],
 "metadata": {
  "kernelspec": {
   "display_name": "C:\\Users\\Lenovo\\Envs\\jupyter",
   "language": "python",
   "name": "python3"
  },
  "language_info": {
   "codemirror_mode": {
    "name": "ipython",
    "version": 3
   },
   "file_extension": ".py",
   "mimetype": "text/x-python",
   "name": "python",
   "nbconvert_exporter": "python",
   "pygments_lexer": "ipython3",
   "version": "3.13.7"
  }
 },
 "nbformat": 4,
 "nbformat_minor": 2
}
