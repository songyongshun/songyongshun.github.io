{
 "cells": [
  {
   "cell_type": "markdown",
   "id": "1d7ffb4b",
   "metadata": {
    "lines_to_next_cell": 2
   },
   "source": [
    "# urllib.request post方法练习题"
   ]
  },
  {
   "cell_type": "code",
   "execution_count": 1,
   "id": "787f2865",
   "metadata": {},
   "outputs": [],
   "source": [
    "import urllib.request\n",
    "import json"
   ]
  },
  {
   "cell_type": "markdown",
   "id": "72403b62",
   "metadata": {},
   "source": [
    "# 练习1： 注册百度智能云，创建api-key"
   ]
  },
  {
   "cell_type": "code",
   "execution_count": 6,
   "id": "4ed7b5c6",
   "metadata": {},
   "outputs": [],
   "source": [
    "api_key = \"bce-v3/ALTAK-oUaIDgobXkLvGdVL4yKFb/861dbfdb79eda6a6ba066eea8786146999e62eac\"  # TODO， 填写你获得的api-key\n",
    "\n",
    "### 在网址 https://cloud.baidu.com/ 下进行注册."
   ]
  },
  {
   "cell_type": "markdown",
   "id": "7d73c708",
   "metadata": {},
   "source": [
    "# 练习2： 在控制台，找到模型广场，搜索ernie-speed模型.\n",
    "## 查看其api文档，补充下面代码"
   ]
  },
  {
   "cell_type": "code",
   "execution_count": 7,
   "id": "1f7a9fe5",
   "metadata": {},
   "outputs": [
    {
     "name": "stdout",
     "output_type": "stream",
     "text": [
      "{\"id\":\"as-8y1acdeijh\",\"object\":\"chat.completion\",\"created\":1761688322,\"model\":\"ernie-speed-128k\",\"choices\":[{\"index\":0,\"message\":{\"role\":\"assistant\",\"content\":\"你好，有什么需要我帮忙的吗？\"},\"finish_reason\":\"stop\",\"flag\":0}],\"usage\":{\"prompt_tokens\":7,\"completion_tokens\":7,\"total_tokens\":14}}\n"
     ]
    }
   ],
   "source": [
    "\n",
    "url = \"https://qianfan.baidubce.com/v2/chat/completions\" # TODO, url地址\n",
    "\n",
    "payload = json.dumps({\n",
    "  \"model\": \"ernie-speed-128k\",\n",
    "  \"messages\": [\n",
    "    {\n",
    "      \"role\": \"system\",\n",
    "      \"content\": \"You are a helpful assistant.\"\n",
    "    },\n",
    "    {\n",
    "      \"role\": \"user\",\n",
    "      \"content\": \"你好\"\n",
    "    }\n",
    "  ]\n",
    "})\n",
    "\n",
    "\n",
    "headers = {\n",
    "  'Content-Type': 'application/json',\n",
    "  'Authorization': f'Bearer {api_key}'\n",
    "}\n",
    "\n",
    "request = urllib.request.Request(url, data=payload.encode(), headers=headers, method='POST')\n",
    "\n",
    "response = urllib.request.urlopen(request)\n",
    "result = response.read().decode()\n",
    "print(result)"
   ]
  },
  {
   "cell_type": "markdown",
   "id": "6f05e968",
   "metadata": {},
   "source": [
    "# 练习3： 分析以上输出的json数据，获取里面的回答字段."
   ]
  },
  {
   "cell_type": "code",
   "execution_count": 8,
   "id": "6ad0e180",
   "metadata": {
    "lines_to_next_cell": 2
   },
   "outputs": [
    {
     "name": "stdout",
     "output_type": "stream",
     "text": [
      "你好，有什么需要我帮忙的吗？\n"
     ]
    }
   ],
   "source": [
    "\n",
    "response = urllib.request.urlopen(request)\n",
    "result = json.loads(response.read().decode())\n",
    "\n",
    "print(result[\"choices\"][0][\"message\"][\"content\"]) # TODO, 获取键为content的内容."
   ]
  },
  {
   "cell_type": "markdown",
   "id": "468efbb0",
   "metadata": {},
   "source": [
    "# 练习4： 以上练习中，用户输入的内容是提前设置好的，请修改为，运行后，等待用户从键盘输入"
   ]
  },
  {
   "cell_type": "code",
   "execution_count": 9,
   "id": "c57f5eb9",
   "metadata": {},
   "outputs": [
    {
     "name": "stdout",
     "output_type": "stream",
     "text": [
      "斐波那契数列是一个经典的数列，其定义非常简单。该数列从第三项开始，每一项都等于前两项之和。数列的前几项如下：\n",
      "\n",
      "* 第1项：1\n",
      "* 第2项：1\n",
      "* 第3项：2（即第1项和第2项的和）\n",
      "* 第4项：3（即第2项和第3项的和）\n",
      "* 第5项：5（以此类推）以此类推，形成数列：1，1，2，3，5，8，等等。它是一个在自然界和计算机领域经常出现并非常重要的数列。在很多场合下都有应用，如计算机程序设计和物理问题等方面。同时它也是计算机科学中广泛使用的算法基础之一。斐波那契数列还有数学递推公式：Fn = F(n-1) + F(n-2)，其中Fn表示数列的第n项。\n"
     ]
    }
   ],
   "source": [
    "\n",
    "user_input = input(\"输入问题\")   # TODO，补充完整\n",
    "\n",
    "payload = json.dumps({\n",
    "  \"model\": \"ernie-speed-128k\",\n",
    "  \"messages\": [\n",
    "    {\n",
    "      \"role\": \"system\",\n",
    "      \"content\": \"You are a helpful assistant.\"\n",
    "    },\n",
    "    {\n",
    "      \"role\": \"user\",\n",
    "      \"content\": user_input\n",
    "    }\n",
    "  ]\n",
    "})\n",
    "\n",
    "request = urllib.request.Request(url, data=payload.encode(), headers=headers, method='POST')\n",
    "\n",
    "response = urllib.request.urlopen(request)\n",
    "result = json.loads(response.read().decode())\n",
    "\n",
    "print(result[\"choices\"][0][\"message\"][\"content\"]) # TODO, 获取键为content的内容."
   ]
  },
  {
   "cell_type": "markdown",
   "id": "e95a6c4b",
   "metadata": {},
   "source": [
    "\n",
    "# 练习5：构建tkinter窗口，放置以下控件：\n",
    "- 输入框Entry，用于输入内容\n",
    "- 文本框Text，用于显示输出内容。\n",
    "- 输入框旁的标签Label，内容为\"请输入问题\"\n",
    "- 文本框旁的标签Label，内容为\"输出结果\"\n",
    "- 按钮Button，用于控制输入内容的发送"
   ]
  },
  {
   "cell_type": "code",
   "execution_count": 16,
   "id": "e7c25e08",
   "metadata": {
    "lines_to_next_cell": 1
   },
   "outputs": [],
   "source": [
    "import tkinter as tk\n",
    "\n",
    "# 创建主窗口\n",
    "root = tk.Tk()\n",
    "root.title(\"Baidu Qianfan Chat\")\n",
    "root.geometry(\"800x600\")\n",
    "\n",
    "\n",
    "# 输入文本框\n",
    "label1 = tk.Label(root, text=\"输入问题:\")\n",
    "label1.pack(anchor='w', padx=10, pady=(10, 0))\n",
    "input_text = tk.Text(root, height=5)\n",
    "input_text.pack(fill=tk.X, padx=10, pady=(0, 10))\n",
    "\n",
    "# 按钮\n",
    "send_button = tk.Button(root, text=\"发送\")\n",
    "send_button.pack(pady=10)\n",
    "\n",
    "# 输出文本框\n",
    "label2 = tk.Label(root, text=\"输出结果:\")\n",
    "label2.pack(anchor=\"w\", padx=10, pady=(10, 0))\n",
    "output_text = tk.Text(root, wrap=tk.WORD)\n",
    "output_text.pack(fill=tk.BOTH, padx=10, pady=(0, 10))\n",
    "\n",
    "# 运行主循环\n",
    "root.mainloop()"
   ]
  },
  {
   "cell_type": "markdown",
   "id": "51242834",
   "metadata": {},
   "source": [
    "# 练习5： 构建tkinter窗口，实现在文本框输入问题，标签处输出大模型的返回内容"
   ]
  },
  {
   "cell_type": "code",
   "execution_count": null,
   "id": "87e05544",
   "metadata": {
    "lines_to_next_cell": 2
   },
   "outputs": [],
   "source": [
    "\n",
    "def send_request():\n",
    "  user_input = input_text.get(\"1.0\", tk.END).strip()\n",
    "  \n",
    "  payload = json.dumps({\n",
    "    \"model\": \"ernie-speed-128k\",\n",
    "    \"messages\": [\n",
    "      {\n",
    "        \"role\": \"system\",\n",
    "        \"content\": \"You are a helpful assistant.\"\n",
    "      },\n",
    "      {\n",
    "        \"role\": \"user\",\n",
    "        \"content\": user_input\n",
    "      }\n",
    "    ]\n",
    "  })\n",
    "  \n",
    "  headers = {\n",
    "    'Content-Type': 'application/json',\n",
    "    'Authorization': f'Bearer {api_key}'\n",
    "  }\n",
    "  \n",
    "  request = urllib.request.Request(url, data=payload.encode(), headers=headers, method='POST')\n",
    "  \n",
    "\n",
    "  response = urllib.request.urlopen(request)\n",
    "  result1 = json.loads(response.read().decode())[\"choices\"][0][\"message\"][\"content\"] # TODO，补充完整\n",
    "  \n",
    "  result = result1[]\n",
    "  output_text.delete(\"1.0\", tk.END)\n",
    "  output_text.insert(tk.END, result)\n",
    "\n",
    "\n",
    "# 创建主窗口\n",
    "root = tk.Tk()\n",
    "root.title(\"Baidu Qianfan Chat\")\n",
    "root.geometry(\"800x600\")\n",
    "\n",
    "\n",
    "# 输入文本框\n",
    "label1 = tk.Label(root, text=\"输入问题:\")\n",
    "label1.pack(anchor='w', padx=10, pady=(10, 0))\n",
    "input_text = tk.Text(root, height=5)\n",
    "input_text.pack(fill=tk.X, padx=10, pady=(0, 10))\n",
    "\n",
    "# 按钮\n",
    "send_button = tk.Button(root, text=\"发送\", command=send_request)\n",
    "send_button.pack(pady=10)\n",
    "\n",
    "# 输出文本框\n",
    "label2 = tk.Label(root, text=\"输出结果:\")\n",
    "label2.pack(anchor=\"w\", padx=10, pady=(10, 0))\n",
    "output_text = tk.Text(root, wrap=tk.WORD)\n",
    "output_text.pack(fill=tk.BOTH, padx=10, pady=(0, 10))\n",
    "\n",
    "# 运行主循环\n",
    "root.mainloop()"
   ]
  }
 ],
 "metadata": {
  "jupytext": {
   "cell_metadata_filter": "-all",
   "main_language": "python",
   "notebook_metadata_filter": "-all"
  },
  "kernelspec": {
   "display_name": "C:\\Users\\Lenovo\\Envs\\jupyter",
   "language": "python",
   "name": "python3"
  },
  "language_info": {
   "codemirror_mode": {
    "name": "ipython",
    "version": 3
   },
   "file_extension": ".py",
   "mimetype": "text/x-python",
   "name": "python",
   "nbconvert_exporter": "python",
   "pygments_lexer": "ipython3",
   "version": "3.13.9"
  }
 },
 "nbformat": 4,
 "nbformat_minor": 5
}
